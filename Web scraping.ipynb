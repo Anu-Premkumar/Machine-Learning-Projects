{
 "cells": [
  {
   "cell_type": "code",
   "execution_count": 1,
   "metadata": {},
   "outputs": [
    {
     "name": "stdout",
     "output_type": "stream",
     "text": [
      "<http.client.HTTPResponse object at 0x000001DC63D867F0>\n",
      "[{'Title': 'Gautamiputra Satakarni (U)', 'Director': 'Krish', 'Genre': 'Action \\n Drama', 'Cast': 'Nandamuri Balakrishna, Shriya Saran'}, {'Title': 'Nenu Local (U/A)', 'Director': 'Trinadharao Nakkina', 'Genre': 'Action \\n Love', 'Cast': 'Nani , Keerthi Suresh, Naveen Chandra'}, {'Title': 'Ghazi (U)', 'Director': 'Sankalp Reddy', 'Genre': 'Cast: Rana Daggubati, Taapsee Pannu, Kay Kay Menon'}, {'Title': 'Gunturodu (U/A)', 'Director': 'S K Satya', 'Genre': 'Action \\n Action', 'Cast': ''}, {'Title': 'Katama Rayudu (U/A)', 'Director': 'Dolly', 'Genre': 'Action \\n Love', 'Cast': 'Pawan Kalyan, Shruthi Haasan, Rao Ramesh, Nassar'}]\n",
      "[{'Title': 'Gautamiputra Satakarni (U)', 'Director': 'Krish', 'Genre': 'Action \\n Drama', 'Cast': 'Nandamuri Balakrishna, Shriya Saran'}, {'Title': 'Nenu Local (U/A)', 'Director': 'Trinadharao Nakkina', 'Genre': 'Action \\n Love', 'Cast': 'Nani , Keerthi Suresh, Naveen Chandra'}, {'Title': 'Ghazi (U)', 'Director': 'Sankalp Reddy', 'Genre': 'Cast: Rana Daggubati, Taapsee Pannu, Kay Kay Menon'}, {'Title': 'Gunturodu (U/A)', 'Director': 'S K Satya', 'Genre': 'Action \\n Action', 'Cast': ''}, {'Title': 'Katama Rayudu (U/A)', 'Director': 'Dolly', 'Genre': 'Action \\n Love', 'Cast': 'Pawan Kalyan, Shruthi Haasan, Rao Ramesh, Nassar'}]\n",
      "                                               Cast             Director  \\\n",
      "0               Nandamuri Balakrishna, Shriya Saran                Krish   \n",
      "1             Nani , Keerthi Suresh, Naveen Chandra  Trinadharao Nakkina   \n",
      "2                                               NaN        Sankalp Reddy   \n",
      "3                                                              S K Satya   \n",
      "4  Pawan Kalyan, Shruthi Haasan, Rao Ramesh, Nassar                Dolly   \n",
      "\n",
      "                                               Genre  \\\n",
      "0                                    Action \\n Drama   \n",
      "1                                     Action \\n Love   \n",
      "2  Cast: Rana Daggubati, Taapsee Pannu, Kay Kay M...   \n",
      "3                                   Action \\n Action   \n",
      "4                                     Action \\n Love   \n",
      "\n",
      "                        Title  \n",
      "0  Gautamiputra Satakarni (U)  \n",
      "1            Nenu Local (U/A)  \n",
      "2                   Ghazi (U)  \n",
      "3             Gunturodu (U/A)  \n",
      "4         Katama Rayudu (U/A)  \n"
     ]
    }
   ],
   "source": [
    "import urllib.request as request # needed to load a website\n",
    "from bs4 import BeautifulSoup as bs\n",
    "import pandas as pd\n",
    "\n",
    "# try from non-wipro network\n",
    "page = request.urlopen(\"http://www.moviecrow.com/telugu/list-of-movies/2017\")\n",
    "#page = request.urlopen(\"http://www.rediff.com\")\n",
    "type(page)\n",
    "print(page)\n",
    "\n",
    "soup = bs(page, \"html.parser\")\n",
    "# print(soup.prettify()) # displays the html source code\n",
    "\n",
    "# store a list of dictionaries\n",
    "movieList = []\n",
    "\n",
    "all = soup.find_all(\"div\", {\"class\":[\"\",\"even\"]}) # we ignore <tr> elements without a 'class' field\n",
    "#print(all)\n",
    "\n",
    "for movie in all:\n",
    "    dic = {}\n",
    "    try:\n",
    "        dic[\"Title\"] = movie.find(\"h1\").text.strip()\n",
    "    except:\n",
    "        pass\n",
    "    try:\n",
    "        dic[\"Director\"] = movie.find_all(\"li\")[0].text.replace(\"Director:\", \"\").strip()\n",
    "    except:\n",
    "        pass\n",
    "    try:\n",
    "        dic[\"Genre\"] = movie.find_all(\"li\")[2].text.replace(\"Genre:\", \"\").strip()\n",
    "    except:\n",
    "        pass\n",
    "    try:\n",
    "        dic[\"Cast\"] = movie.find_all(\"li\")[3].text.replace(\"Cast:\", \"\").strip()\n",
    "    except:\n",
    "        pass\n",
    "    movieList.append(dic) # add each movie to the list\n",
    "print(movieList)\n",
    "    \n",
    "\n",
    "# store list of dictionaries in a dataframe\n",
    "print(movieList)\n",
    "df = pd.DataFrame(movieList)\n",
    "print(df)\n",
    "# write dataframe to file\n",
    "df.to_csv(\"D:\\Great learning\\Datasets\\movies.csv\")"
   ]
  },
  {
   "cell_type": "code",
   "execution_count": null,
   "metadata": {},
   "outputs": [],
   "source": []
  }
 ],
 "metadata": {
  "kernelspec": {
   "display_name": "Python 3",
   "language": "python",
   "name": "python3"
  },
  "language_info": {
   "codemirror_mode": {
    "name": "ipython",
    "version": 3
   },
   "file_extension": ".py",
   "mimetype": "text/x-python",
   "name": "python",
   "nbconvert_exporter": "python",
   "pygments_lexer": "ipython3",
   "version": "3.7.3"
  }
 },
 "nbformat": 4,
 "nbformat_minor": 2
}
