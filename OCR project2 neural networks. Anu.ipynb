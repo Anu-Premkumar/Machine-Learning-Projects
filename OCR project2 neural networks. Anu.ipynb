{
 "cells": [
  {
   "cell_type": "code",
   "execution_count": 2,
   "metadata": {},
   "outputs": [
    {
     "name": "stderr",
     "output_type": "stream",
     "text": [
      "Using TensorFlow backend.\n"
     ]
    }
   ],
   "source": [
    "import pandas as pd\n",
    "import numpy as np\n",
    "import matplotlib.pyplot as plt\n",
    "import h5py\n",
    "from sklearn.neighbors import KNeighborsClassifier\n",
    "from sklearn.metrics import confusion_matrix, f1_score\n",
    "from tensorflow.keras.models import Sequential\n",
    "from tensorflow.keras.layers import Dense, Flatten, BatchNormalization, Dropout\n",
    "from tensorflow.keras.utils import normalize\n",
    "from keras.callbacks.callbacks import EarlyStopping\n",
    "from keras import regularizers\n",
    "from keras import optimizers"
   ]
  },
  {
   "cell_type": "markdown",
   "metadata": {},
   "source": [
    "<h3>Split data into training, validation, and test set</h3>"
   ]
  },
  {
   "cell_type": "code",
   "execution_count": 3,
   "metadata": {},
   "outputs": [
    {
     "name": "stdout",
     "output_type": "stream",
     "text": [
      "<KeysViewHDF5 ['X_test', 'X_train', 'X_val', 'y_test', 'y_train', 'y_val']>\n"
     ]
    }
   ],
   "source": [
    "dataset = h5py.File('C://Users//Anu//Downloads//SVHN_single_grey1.h5','r')\n",
    "print(dataset.keys())"
   ]
  },
  {
   "cell_type": "code",
   "execution_count": 4,
   "metadata": {},
   "outputs": [],
   "source": [
    "X_train = np.array(dataset['X_train'])\n",
    "X_val = np.array(dataset['X_val'])\n",
    "X_test = np.array(dataset['X_test'])\n",
    "y_train = np.array(dataset['y_train'])\n",
    "y_val = np.array(dataset['y_val'])\n",
    "y_test = np.array(dataset['y_test'])"
   ]
  },
  {
   "cell_type": "code",
   "execution_count": 5,
   "metadata": {},
   "outputs": [
    {
     "name": "stdout",
     "output_type": "stream",
     "text": [
      "X_train: (42000, 32, 32)\n",
      "X_test: (18000, 32, 32)\n",
      "X_val: (60000, 32, 32)\n",
      "y_train: (42000,)\n",
      "y_test: (18000,)\n",
      "y_val: (60000,)\n"
     ]
    }
   ],
   "source": [
    "print(\"X_train:\", X_train.shape)\n",
    "print(\"X_test:\", X_test.shape)\n",
    "print(\"X_val:\", X_val.shape)\n",
    "print(\"y_train:\", y_train.shape)\n",
    "print(\"y_test:\", y_test.shape)\n",
    "print(\"y_val:\", y_val.shape)"
   ]
  },
  {
   "cell_type": "markdown",
   "metadata": {},
   "source": [
    "<h3>Normalizing the image data</h3>"
   ]
  },
  {
   "cell_type": "code",
   "execution_count": 6,
   "metadata": {},
   "outputs": [
    {
     "data": {
      "text/plain": [
       "<matplotlib.colorbar.Colorbar at 0x2684a0dc160>"
      ]
     },
     "execution_count": 6,
     "metadata": {},
     "output_type": "execute_result"
    },
    {
     "data": {
      "image/png": "[encoded data removed]",
      "text/plain": [
       "<Figure size 432x288 with 2 Axes>"
      ]
     },
     "metadata": {
      "needs_background": "light"
     },
     "output_type": "display_data"
    }
   ],
   "source": [
    "plt.figure()\n",
    "plt.imshow(X_train[8])\n",
    "plt.colorbar()"
   ]
  },
  {
   "cell_type": "code",
   "execution_count": 7,
   "metadata": {},
   "outputs": [],
   "source": [
    "X_train = normalize(X_train, axis=-1, order=2)\n",
    "X_test = normalize(X_test, axis=-1, order=2)\n",
    "X_val = normalize(X_val, axis=-1, order=2)"
   ]
  },
  {
   "cell_type": "code",
   "execution_count": 8,
   "metadata": {},
   "outputs": [
    {
     "data": {
      "text/plain": [
       "<matplotlib.colorbar.Colorbar at 0x2684a1c71d0>"
      ]
     },
     "execution_count": 8,
     "metadata": {},
     "output_type": "execute_result"
    },
    {
     "data": {
      "image/png": "[encoded data removed]",
      "text/plain": [
       "<Figure size 432x288 with 2 Axes>"
      ]
     },
     "metadata": {
      "needs_background": "light"
     },
     "output_type": "display_data"
    }
   ],
   "source": [
    "plt.figure()\n",
    "plt.imshow(X_train[8])\n",
    "plt.colorbar()"
   ]
  },
  {
   "cell_type": "code",
   "execution_count": 9,
   "metadata": {},
   "outputs": [],
   "source": [
    "class_labels = [1,2,3,4,5,6,7,8,9,0]"
   ]
  },
  {
   "cell_type": "markdown",
   "metadata": {},
   "source": [
    "<h2>Using K Nearest Neighbours Classifier</h2>"
   ]
  },
  {
   "cell_type": "code",
   "execution_count": 10,
   "metadata": {},
   "outputs": [],
   "source": [
    "X_train_knn = X_train.reshape((42000,1024))"
   ]
  },
  {
   "cell_type": "code",
   "execution_count": 11,
   "metadata": {},
   "outputs": [],
   "source": [
    "X_test_knn = X_test.reshape((18000,1024))"
   ]
  },
  {
   "cell_type": "code",
   "execution_count": 12,
   "metadata": {},
   "outputs": [
    {
     "data": {
      "text/plain": [
       "KNeighborsClassifier(algorithm='auto', leaf_size=30, metric='minkowski',\n",
       "           metric_params=None, n_jobs=-1, n_neighbors=20, p=2,\n",
       "           weights='distance')"
      ]
     },
     "execution_count": 12,
     "metadata": {},
     "output_type": "execute_result"
    }
   ],
   "source": [
    "knn = KNeighborsClassifier(n_neighbors=20, weights='distance', n_jobs=-1)\n",
    "knn.fit(X_train_knn, y_train)"
   ]
  },
  {
   "cell_type": "code",
   "execution_count": 13,
   "metadata": {},
   "outputs": [],
   "source": [
    "pred = knn.predict(X_test_knn)"
   ]
  },
  {
   "cell_type": "code",
   "execution_count": 14,
   "metadata": {},
   "outputs": [
    {
     "data": {
      "text/plain": [
       "0.6224444444444445"
      ]
     },
     "execution_count": 14,
     "metadata": {},
     "output_type": "execute_result"
    }
   ],
   "source": [
    "knn.score(X_test_knn, y_test)"
   ]
  },
  {
   "cell_type": "markdown",
   "metadata": {},
   "source": [
    "<h2>Using Neural Networks</h2>"
   ]
  },
  {
   "cell_type": "code",
   "execution_count": 15,
   "metadata": {},
   "outputs": [],
   "source": [
    "optima = optimizers.Adam(learning_rate=0.001)\n",
    "monitor = EarlyStopping(monitor='val_loss', patience=20, verbose=1, mode='auto', restore_best_weights=True)"
   ]
  },
  {
   "cell_type": "code",
   "execution_count": 25,
   "metadata": {},
   "outputs": [],
   "source": [
    "model = Sequential()\n",
    "model.add(Flatten(input_shape=(32, 32)))\n",
    "model.add(Dense(512, activation='relu', activity_regularizer= regularizers.l2(0.01)))\n",
    "model.add(BatchNormalization(axis=1))\n",
    "model.add(Dense(256, activation='relu', activity_regularizer= regularizers.l2(0.01)))\n",
    "model.add(BatchNormalization(axis=1))\n",
    "model.add(Dense(128, activation='relu', activity_regularizer= regularizers.l2(0.01)))\n",
    "model.add(BatchNormalization(axis=1))\n",
    "model.add(Dense(64, activation='relu', activity_regularizer= regularizers.l2(0.01)))\n",
    "model.add(BatchNormalization(axis=1))\n",
    "model.add(Dense(32, activation='relu', activity_regularizer= regularizers.l2(0.01)))\n",
    "model.add(BatchNormalization(axis=1))\n",
    "model.add(Dense(10, activation='softmax'))"
   ]
  },
  {
   "cell_type": "code",
   "execution_count": 26,
   "metadata": {},
   "outputs": [
    {
     "name": "stdout",
     "output_type": "stream",
     "text": [
      "Model: \"sequential_1\"\n",
      "_________________________________________________________________\n",
      "Layer (type)                 Output Shape              Param #   \n",
      "=================================================================\n",
      "flatten_1 (Flatten)          (None, 1024)              0         \n",
      "_________________________________________________________________\n",
      "dense_7 (Dense)              (None, 512)               524800    \n",
      "_________________________________________________________________\n",
      "batch_normalization_6 (Batch (None, 512)               2048      \n",
      "_________________________________________________________________\n",
      "dense_8 (Dense)              (None, 256)               131328    \n",
      "_________________________________________________________________\n",
      "batch_normalization_7 (Batch (None, 256)               1024      \n",
      "_________________________________________________________________\n",
      "dense_9 (Dense)              (None, 128)               32896     \n",
      "_________________________________________________________________\n",
      "batch_normalization_8 (Batch (None, 128)               512       \n",
      "_________________________________________________________________\n",
      "dense_10 (Dense)             (None, 64)                8256      \n",
      "_________________________________________________________________\n",
      "batch_normalization_9 (Batch (None, 64)                256       \n",
      "_________________________________________________________________\n",
      "dense_11 (Dense)             (None, 32)                2080      \n",
      "_________________________________________________________________\n",
      "batch_normalization_10 (Batc (None, 32)                128       \n",
      "_________________________________________________________________\n",
      "dense_12 (Dense)             (None, 10)                330       \n",
      "=================================================================\n",
      "Total params: 703,658\n",
      "Trainable params: 701,674\n",
      "Non-trainable params: 1,984\n",
      "_________________________________________________________________\n"
     ]
    }
   ],
   "source": [
    "model.summary()"
   ]
  },
  {
   "cell_type": "code",
   "execution_count": 27,
   "metadata": {},
   "outputs": [],
   "source": [
    "model.compile(optimizer='adam', loss = 'sparse_categorical_crossentropy', metrics = ['accuracy'])"
   ]
  },
  {
   "cell_type": "code",
   "execution_count": 28,
   "metadata": {},
   "outputs": [
    {
     "name": "stdout",
     "output_type": "stream",
     "text": [
      "Train on 42000 samples, validate on 60000 samples\n",
      "Epoch 1/200\n",
      "42000/42000 [==============================] - 4s 102us/sample - loss: 3.1123 - acc: 0.4522 - val_loss: 2.4549 - val_acc: 0.1000\n",
      "Epoch 2/200\n",
      "42000/42000 [==============================] - 3s 70us/sample - loss: 1.9188 - acc: 0.6342 - val_loss: 2.4573 - val_acc: 0.1011\n",
      "Epoch 3/200\n",
      "42000/42000 [==============================] - 3s 69us/sample - loss: 1.5459 - acc: 0.6708 - val_loss: 2.3819 - val_acc: 0.1234\n",
      "Epoch 4/200\n",
      "42000/42000 [==============================] - 3s 73us/sample - loss: 1.3178 - acc: 0.7076 - val_loss: 2.2333 - val_acc: 0.2187\n",
      "Epoch 5/200\n",
      "42000/42000 [==============================] - 3s 67us/sample - loss: 1.1764 - acc: 0.7265 - val_loss: 2.0086 - val_acc: 0.3482\n",
      "Epoch 6/200\n",
      "42000/42000 [==============================] - 3s 70us/sample - loss: 1.0620 - acc: 0.7547 - val_loss: 2.0871 - val_acc: 0.3453\n",
      "Epoch 7/200\n",
      "42000/42000 [==============================] - 3s 70us/sample - loss: 0.9876 - acc: 0.7659 - val_loss: 1.9842 - val_acc: 0.3992\n",
      "Epoch 8/200\n",
      "42000/42000 [==============================] - 3s 73us/sample - loss: 0.9359 - acc: 0.7767 - val_loss: 1.7718 - val_acc: 0.4587\n",
      "Epoch 9/200\n",
      "42000/42000 [==============================] - 3s 77us/sample - loss: 0.8742 - acc: 0.7882 - val_loss: 2.1728 - val_acc: 0.3845\n",
      "Epoch 10/200\n",
      "42000/42000 [==============================] - 3s 72us/sample - loss: 0.8249 - acc: 0.7994 - val_loss: 1.7777 - val_acc: 0.4687\n",
      "Epoch 11/200\n",
      "42000/42000 [==============================] - 3s 72us/sample - loss: 0.7848 - acc: 0.8087 - val_loss: 1.8964 - val_acc: 0.4640\n",
      "Epoch 12/200\n",
      "42000/42000 [==============================] - 3s 69us/sample - loss: 0.7518 - acc: 0.8149 - val_loss: 2.0162 - val_acc: 0.4496\n",
      "Epoch 13/200\n",
      "42000/42000 [==============================] - 3s 71us/sample - loss: 0.7252 - acc: 0.8224 - val_loss: 2.2306 - val_acc: 0.4083\n",
      "Epoch 14/200\n",
      "42000/42000 [==============================] - 3s 76us/sample - loss: 0.7203 - acc: 0.8205 - val_loss: 1.9206 - val_acc: 0.4559\n",
      "Epoch 15/200\n",
      "42000/42000 [==============================] - 3s 75us/sample - loss: 0.6827 - acc: 0.8310 - val_loss: 1.7958 - val_acc: 0.4753\n",
      "Epoch 16/200\n",
      "42000/42000 [==============================] - 3s 75us/sample - loss: 0.6638 - acc: 0.8350 - val_loss: 1.9076 - val_acc: 0.5107\n",
      "Epoch 17/200\n",
      "42000/42000 [==============================] - 3s 75us/sample - loss: 0.6417 - acc: 0.8429 - val_loss: 1.3601 - val_acc: 0.6307\n",
      "Epoch 18/200\n",
      "42000/42000 [==============================] - 3s 76us/sample - loss: 0.6219 - acc: 0.8456 - val_loss: 1.4109 - val_acc: 0.6191\n",
      "Epoch 19/200\n",
      "42000/42000 [==============================] - 3s 76us/sample - loss: 0.6011 - acc: 0.8502 - val_loss: 1.3585 - val_acc: 0.6278\n",
      "Epoch 20/200\n",
      "42000/42000 [==============================] - 3s 74us/sample - loss: 0.5892 - acc: 0.8540 - val_loss: 1.2277 - val_acc: 0.6609\n",
      "Epoch 21/200\n",
      "42000/42000 [==============================] - 3s 77us/sample - loss: 0.5836 - acc: 0.8571 - val_loss: 2.1611 - val_acc: 0.4410\n",
      "Epoch 22/200\n",
      "42000/42000 [==============================] - 3s 70us/sample - loss: 0.5793 - acc: 0.8584 - val_loss: 1.7129 - val_acc: 0.5180\n",
      "Epoch 23/200\n",
      "42000/42000 [==============================] - 3s 75us/sample - loss: 0.5672 - acc: 0.8609 - val_loss: 3.0179 - val_acc: 0.3638\n",
      "Epoch 24/200\n",
      "42000/42000 [==============================] - 3s 71us/sample - loss: 0.5561 - acc: 0.8630 - val_loss: 1.3590 - val_acc: 0.6377\n",
      "Epoch 25/200\n",
      "42000/42000 [==============================] - 3s 71us/sample - loss: 0.5402 - acc: 0.8669 - val_loss: 1.5602 - val_acc: 0.5883\n",
      "Epoch 26/200\n",
      "42000/42000 [==============================] - 3s 75us/sample - loss: 0.5250 - acc: 0.8699 - val_loss: 1.2682 - val_acc: 0.6568\n",
      "Epoch 27/200\n",
      "42000/42000 [==============================] - 3s 74us/sample - loss: 0.5086 - acc: 0.8755 - val_loss: 1.7264 - val_acc: 0.5541\n",
      "Epoch 28/200\n",
      "42000/42000 [==============================] - 3s 70us/sample - loss: 0.4951 - acc: 0.8796 - val_loss: 1.5365 - val_acc: 0.6290\n",
      "Epoch 29/200\n",
      "42000/42000 [==============================] - 3s 73us/sample - loss: 0.4941 - acc: 0.8791 - val_loss: 1.5253 - val_acc: 0.6041\n",
      "Epoch 30/200\n",
      "42000/42000 [==============================] - 3s 73us/sample - loss: 0.5009 - acc: 0.8777 - val_loss: 1.4640 - val_acc: 0.5978\n",
      "Epoch 31/200\n",
      "42000/42000 [==============================] - 3s 71us/sample - loss: 0.4818 - acc: 0.8826 - val_loss: 1.4545 - val_acc: 0.6086\n",
      "Epoch 32/200\n",
      "42000/42000 [==============================] - 3s 72us/sample - loss: 0.4684 - acc: 0.8852 - val_loss: 1.4931 - val_acc: 0.6119\n",
      "Epoch 33/200\n",
      "42000/42000 [==============================] - 3s 75us/sample - loss: 0.4633 - acc: 0.8879 - val_loss: 2.5672 - val_acc: 0.3945\n",
      "Epoch 34/200\n",
      "42000/42000 [==============================] - 3s 74us/sample - loss: 0.4640 - acc: 0.8888 - val_loss: 1.5285 - val_acc: 0.6205\n",
      "Epoch 35/200\n",
      "42000/42000 [==============================] - 3s 74us/sample - loss: 0.4548 - acc: 0.8896 - val_loss: 2.0882 - val_acc: 0.5041\n",
      "Epoch 36/200\n",
      "42000/42000 [==============================] - 3s 74us/sample - loss: 0.4348 - acc: 0.8955 - val_loss: 1.5088 - val_acc: 0.6071\n",
      "Epoch 37/200\n",
      "42000/42000 [==============================] - 3s 72us/sample - loss: 0.4416 - acc: 0.8917 - val_loss: 2.1814 - val_acc: 0.4658\n",
      "Epoch 38/200\n",
      "42000/42000 [==============================] - 3s 73us/sample - loss: 0.4263 - acc: 0.8970 - val_loss: 1.1436 - val_acc: 0.7162\n",
      "Epoch 39/200\n",
      "42000/42000 [==============================] - 3s 71us/sample - loss: 0.4216 - acc: 0.8977 - val_loss: 1.6577 - val_acc: 0.5890\n",
      "Epoch 40/200\n",
      "42000/42000 [==============================] - 3s 73us/sample - loss: 0.4219 - acc: 0.8985 - val_loss: 1.9756 - val_acc: 0.5314\n",
      "Epoch 41/200\n",
      "42000/42000 [==============================] - 3s 75us/sample - loss: 0.4099 - acc: 0.9006 - val_loss: 1.4291 - val_acc: 0.6332\n",
      "Epoch 42/200\n",
      "42000/42000 [==============================] - 3s 71us/sample - loss: 0.4072 - acc: 0.9039 - val_loss: 1.6425 - val_acc: 0.5945\n",
      "Epoch 43/200\n",
      "42000/42000 [==============================] - 3s 71us/sample - loss: 0.3998 - acc: 0.9039 - val_loss: 1.4198 - val_acc: 0.6450\n",
      "Epoch 44/200\n",
      "42000/42000 [==============================] - 3s 74us/sample - loss: 0.3984 - acc: 0.9049 - val_loss: 1.6322 - val_acc: 0.6097\n",
      "Epoch 45/200\n",
      "42000/42000 [==============================] - 3s 72us/sample - loss: 0.3952 - acc: 0.9059 - val_loss: 1.5647 - val_acc: 0.6317\n",
      "Epoch 46/200\n",
      "42000/42000 [==============================] - 3s 80us/sample - loss: 0.3857 - acc: 0.9090 - val_loss: 2.2860 - val_acc: 0.5017\n",
      "Epoch 47/200\n",
      "42000/42000 [==============================] - 3s 71us/sample - loss: 0.3878 - acc: 0.9093 - val_loss: 1.1779 - val_acc: 0.7076\n",
      "Epoch 48/200\n",
      "42000/42000 [==============================] - 3s 74us/sample - loss: 0.3779 - acc: 0.9115 - val_loss: 1.5945 - val_acc: 0.6147\n",
      "Epoch 49/200\n",
      "42000/42000 [==============================] - 3s 71us/sample - loss: 0.3750 - acc: 0.9106 - val_loss: 1.3354 - val_acc: 0.6792\n",
      "Epoch 50/200\n",
      "42000/42000 [==============================] - 3s 81us/sample - loss: 0.3649 - acc: 0.9138 - val_loss: 1.7788 - val_acc: 0.5800\n",
      "Epoch 51/200\n",
      "42000/42000 [==============================] - 3s 78us/sample - loss: 0.3587 - acc: 0.9162 - val_loss: 1.6278 - val_acc: 0.6211\n",
      "Epoch 52/200\n",
      "42000/42000 [==============================] - 3s 71us/sample - loss: 0.3621 - acc: 0.9144 - val_loss: 1.8178 - val_acc: 0.6105\n",
      "Epoch 53/200\n",
      "42000/42000 [==============================] - 3s 70us/sample - loss: 0.3752 - acc: 0.9113 - val_loss: 1.6639 - val_acc: 0.5982\n",
      "Epoch 54/200\n",
      "42000/42000 [==============================] - 3s 68us/sample - loss: 0.3838 - acc: 0.9069 - val_loss: 1.5726 - val_acc: 0.6415\n",
      "Epoch 55/200\n",
      "42000/42000 [==============================] - 3s 67us/sample - loss: 0.3699 - acc: 0.9131 - val_loss: 1.5589 - val_acc: 0.6242\n",
      "Epoch 56/200\n",
      "42000/42000 [==============================] - 3s 73us/sample - loss: 0.3589 - acc: 0.9146 - val_loss: 1.5344 - val_acc: 0.6209\n",
      "Epoch 57/200\n",
      "42000/42000 [==============================] - 3s 67us/sample - loss: 0.3550 - acc: 0.9170 - val_loss: 1.5497 - val_acc: 0.6214\n",
      "Epoch 58/200\n",
      "42000/42000 [==============================] - 3s 64us/sample - loss: 0.3487 - acc: 0.9185 - val_loss: 1.0665 - val_acc: 0.7325\n"
     ]
    },
    {
     "name": "stdout",
     "output_type": "stream",
     "text": [
      "Epoch 59/200\n",
      "42000/42000 [==============================] - 3s 68us/sample - loss: 0.3410 - acc: 0.9204 - val_loss: 2.0648 - val_acc: 0.5693\n",
      "Epoch 60/200\n",
      "42000/42000 [==============================] - 3s 68us/sample - loss: 0.3475 - acc: 0.9186 - val_loss: 2.3344 - val_acc: 0.5035\n",
      "Epoch 61/200\n",
      "42000/42000 [==============================] - 3s 67us/sample - loss: 0.3328 - acc: 0.9218 - val_loss: 1.4623 - val_acc: 0.6441\n",
      "Epoch 62/200\n",
      "42000/42000 [==============================] - 3s 73us/sample - loss: 0.3345 - acc: 0.9234 - val_loss: 2.0452 - val_acc: 0.6016\n",
      "Epoch 63/200\n",
      "42000/42000 [==============================] - 3s 69us/sample - loss: 0.3249 - acc: 0.9260 - val_loss: 1.3410 - val_acc: 0.6979\n",
      "Epoch 64/200\n",
      "42000/42000 [==============================] - 3s 67us/sample - loss: 0.3394 - acc: 0.9205 - val_loss: 1.1718 - val_acc: 0.7166\n",
      "Epoch 65/200\n",
      "42000/42000 [==============================] - 3s 71us/sample - loss: 0.3184 - acc: 0.9271 - val_loss: 1.5375 - val_acc: 0.6410\n",
      "Epoch 66/200\n",
      "42000/42000 [==============================] - 3s 68us/sample - loss: 0.3292 - acc: 0.9246 - val_loss: 1.8026 - val_acc: 0.6203\n",
      "Epoch 67/200\n",
      "42000/42000 [==============================] - 3s 69us/sample - loss: 0.3196 - acc: 0.9272 - val_loss: 2.4720 - val_acc: 0.5318\n",
      "Epoch 68/200\n",
      "42000/42000 [==============================] - 3s 71us/sample - loss: 0.3217 - acc: 0.9268 - val_loss: 2.0731 - val_acc: 0.5578\n",
      "Epoch 69/200\n",
      "42000/42000 [==============================] - 3s 71us/sample - loss: 0.3070 - acc: 0.9294 - val_loss: 1.2444 - val_acc: 0.7138\n",
      "Epoch 70/200\n",
      "42000/42000 [==============================] - 3s 70us/sample - loss: 0.3058 - acc: 0.9294 - val_loss: 2.0580 - val_acc: 0.5551\n",
      "Epoch 71/200\n",
      "42000/42000 [==============================] - 3s 68us/sample - loss: 0.3052 - acc: 0.9301 - val_loss: 1.3465 - val_acc: 0.6943\n",
      "Epoch 72/200\n",
      "42000/42000 [==============================] - 3s 68us/sample - loss: 0.2970 - acc: 0.9336 - val_loss: 1.1316 - val_acc: 0.7371\n",
      "Epoch 73/200\n",
      "42000/42000 [==============================] - 3s 76us/sample - loss: 0.2977 - acc: 0.9330 - val_loss: 2.0314 - val_acc: 0.5709\n",
      "Epoch 74/200\n",
      "42000/42000 [==============================] - 3s 74us/sample - loss: 0.3064 - acc: 0.9305 - val_loss: 1.1457 - val_acc: 0.7319\n",
      "Epoch 75/200\n",
      "42000/42000 [==============================] - 3s 72us/sample - loss: 0.2909 - acc: 0.9332 - val_loss: 2.3502 - val_acc: 0.5240\n",
      "Epoch 76/200\n",
      "42000/42000 [==============================] - 3s 73us/sample - loss: 0.3048 - acc: 0.9323 - val_loss: 1.2502 - val_acc: 0.6960\n",
      "Epoch 77/200\n",
      "42000/42000 [==============================] - 3s 72us/sample - loss: 0.3161 - acc: 0.9274 - val_loss: 1.7973 - val_acc: 0.6151\n",
      "Epoch 78/200\n",
      "41000/42000 [============================>.] - ETA: 0s - loss: 0.2902 - acc: 0.9337Restoring model weights from the end of the best epoch\n",
      "42000/42000 [==============================] - 3s 83us/sample - loss: 0.2903 - acc: 0.9337 - val_loss: 1.3404 - val_acc: 0.6868\n",
      "Epoch 00078: early stopping\n"
     ]
    },
    {
     "data": {
      "text/plain": [
       "<tensorflow.python.keras.callbacks.History at 0x2694d18b4a8>"
      ]
     },
     "execution_count": 28,
     "metadata": {},
     "output_type": "execute_result"
    }
   ],
   "source": [
    "model.fit(X_train, y_train, batch_size=500, epochs=200, verbose=1, validation_data=(X_val,y_val), callbacks=[monitor])"
   ]
  },
  {
   "cell_type": "code",
   "execution_count": 36,
   "metadata": {},
   "outputs": [],
   "source": [
    "pred = model.predict(X_test)"
   ]
  },
  {
   "cell_type": "code",
   "execution_count": 37,
   "metadata": {},
   "outputs": [
    {
     "data": {
      "text/plain": [
       "array([2.6510310e-05, 9.4335172e-07, 7.5850781e-05, 3.0953106e-05,\n",
       "       4.3881901e-05, 5.7709976e-06, 4.9328687e-06, 1.9641002e-05,\n",
       "       8.2891944e-05, 9.9970859e-01], dtype=float32)"
      ]
     },
     "execution_count": 37,
     "metadata": {},
     "output_type": "execute_result"
    }
   ],
   "source": [
    "pred[3]"
   ]
  },
  {
   "cell_type": "code",
   "execution_count": 38,
   "metadata": {},
   "outputs": [
    {
     "data": {
      "text/plain": [
       "9"
      ]
     },
     "execution_count": 38,
     "metadata": {},
     "output_type": "execute_result"
    }
   ],
   "source": [
    "np.argmax(pred[3])"
   ]
  },
  {
   "cell_type": "code",
   "execution_count": 40,
   "metadata": {},
   "outputs": [
    {
     "data": {
      "text/plain": [
       "<matplotlib.colorbar.Colorbar at 0x269507e67b8>"
      ]
     },
     "execution_count": 40,
     "metadata": {},
     "output_type": "execute_result"
    },
    {
     "data": {
      "image/png": "[encoded data removed]",
      "text/plain": [
       "<Figure size 432x288 with 2 Axes>"
      ]
     },
     "metadata": {
      "needs_background": "light"
     },
     "output_type": "display_data"
    }
   ],
   "source": [
    "plt.figure()\n",
    "plt.imshow(X_test[3])\n",
    "plt.colorbar()"
   ]
  },
  {
   "cell_type": "raw",
   "metadata": {},
   "source": [
    "Predicted '9' correctly"
   ]
  },
  {
   "cell_type": "markdown",
   "metadata": {},
   "source": [
    "#     Accuracy comparison\n",
    "    Neural Networks : 93% in Training and 68% in test set\n",
    "    KNN             : 62%\n",
    "    "
   ]
  }
 ],
 "metadata": {
  "kernelspec": {
   "display_name": "Python 3",
   "language": "python",
   "name": "python3"
  },
  "language_info": {
   "codemirror_mode": {
    "name": "ipython",
    "version": 3
   },
   "file_extension": ".py",
   "mimetype": "text/x-python",
   "name": "python",
   "nbconvert_exporter": "python",
   "pygments_lexer": "ipython3",
   "version": "3.7.3"
  }
 },
 "nbformat": 4,
 "nbformat_minor": 2
}
